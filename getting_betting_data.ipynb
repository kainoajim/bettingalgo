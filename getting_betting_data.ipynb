{
 "cells": [
  {
   "cell_type": "code",
   "execution_count": 37,
   "metadata": {},
   "outputs": [
    {
     "name": "stderr",
     "output_type": "stream",
     "text": [
      "/var/folders/9_/skd397mj5fzg2y5xx2wb5xfc0000gn/T/ipykernel_63006/2646622729.py:7: DeprecationWarning: Importing clear_output from IPython.core.display is deprecated since IPython 7.14, please import from IPython display\n",
      "  from IPython.core.display import clear_output\n"
     ]
    }
   ],
   "source": [
    "from requests import get\n",
    "from bs4 import BeautifulSoup\n",
    "import pandas as pd\n",
    "from time import sleep\n",
    "from random import randint\n",
    "from warnings import warn\n",
    "from IPython.core.display import clear_output\n",
    "\n",
    "from time import time\n",
    "from datetime import datetime\n",
    "from nba_api.stats.endpoints import leaguegamelog"
   ]
  },
  {
   "cell_type": "code",
   "execution_count": 38,
   "metadata": {},
   "outputs": [
    {
     "name": "stdout",
     "output_type": "stream",
     "text": [
      "\n",
      "<!DOCTYPE html>\n",
      "<html lang=\"en\" xml:lang=\"en\">\n",
      "<head>\n",
      "\n",
      "    \n",
      "\n",
      "\n",
      "    <title>NBA Matchups 2019-2020 - Today&#39;s Basketball Previews, Scores, &amp; Schedules</title>\n",
      "    <meta name=\"description\" content=\"NBA Scores &amp; Matchups for Mar 11, 2020 including previews, scores, schedule, stats, results, betting trends, and more.\">\n",
      "    <meta name=\"keywords\" content=\"nba, nba scores, nba matchups, basketball, nba games, nba results, nba logros , escore nba, resultados nba\">\n",
      "    <meta name=\"co\n"
     ]
    }
   ],
   "source": [
    "url = 'https://www.covers.com/sports/NBA/matchups?selectedDate=2020-03-11'\n",
    "\n",
    "response = get(url)\n",
    "print(response.text[:500])"
   ]
  },
  {
   "cell_type": "code",
   "execution_count": 39,
   "metadata": {},
   "outputs": [
    {
     "data": {
      "text/plain": [
       "bs4.BeautifulSoup"
      ]
     },
     "execution_count": 39,
     "metadata": {},
     "output_type": "execute_result"
    }
   ],
   "source": [
    "html_soup = BeautifulSoup(response.text, 'html.parser')\n",
    "type(html_soup)"
   ]
  },
  {
   "cell_type": "code",
   "execution_count": 40,
   "metadata": {},
   "outputs": [
    {
     "name": "stdout",
     "output_type": "stream",
     "text": [
      "<class 'bs4.element.ResultSet'>\n",
      "4\n"
     ]
    }
   ],
   "source": [
    "game_containers = html_soup.find_all('div', class_ = 'cmg_matchup_game_box cmg_game_data')\n",
    "print(type(game_containers))\n",
    "print(len(game_containers))"
   ]
  },
  {
   "cell_type": "code",
   "execution_count": 41,
   "metadata": {},
   "outputs": [
    {
     "name": "stdout",
     "output_type": "stream",
     "text": [
      "['DET', '29', '26', '29', '22', '106', 'Odds', 'PHI', '34', '36', '29', '25', '124', 'Odds']\n",
      "['NY', '33', '34', '29', '22', '18', '136', 'Odds', 'ATL', '24', '26', '28', '40', '13', '131', 'Odds']\n",
      "['CHA', '22', '37', '28', '22', '109', 'Odds', 'MIA', '40', '11', '26', '21', '98', 'Odds']\n",
      "['DEN', '29', '21', '35', '12', '97', 'Odds', 'DAL', '33', '24', '27', '29', '113', 'Odds']\n"
     ]
    }
   ],
   "source": [
    "games = html_soup.find_all('tbody')\n",
    "for game in games:\n",
    "    print(game.text.split())"
   ]
  },
  {
   "cell_type": "code",
   "execution_count": 42,
   "metadata": {},
   "outputs": [],
   "source": [
    "first = games[0]"
   ]
  },
  {
   "cell_type": "code",
   "execution_count": 43,
   "metadata": {},
   "outputs": [],
   "source": [
    "#Extract Quarter Scores/Totals\n",
    "first_game = game_containers[0]\n",
    "scores = first_game.find('div', class_ = 'cmg_matchup_line_score')\n",
    "scores = scores.find_all('tr')\n",
    "\n",
    "q1_pts_away = 0 \n",
    "q1_pts_home = 0\n",
    "q2_pts_away = 0\n",
    "q2_pts_home = 0\n",
    "q3_pts_away = 0\n",
    "q3_pts_home = 0\n",
    "q4_pts_away = 0\n",
    "q4_pts_home = 0\n",
    "ot1_pts_away = 0\n",
    "ot1_pts_home = 0\n",
    "ot2_pts_away = 0\n",
    "ot2_pts_home = 0\n",
    "ot3_pts_away = 0\n",
    "ot3_pts_home = 0\n",
    "ot4_pts_away = 0\n",
    "ot4_pts_home = 0\n",
    "\n",
    "quarters_away = [q1_pts_away, q2_pts_away, q3_pts_away, q4_pts_away, ot1_pts_away, ot2_pts_away, ot3_pts_away, ot4_pts_away]\n",
    "quarters_home = [q1_pts_home, q2_pts_home, q3_pts_home, q4_pts_home, ot1_pts_home, ot2_pts_home, ot3_pts_home, ot4_pts_home]\n",
    "\n",
    "scores_list_away = scores[1].text.split()[1:-1]\n",
    "for i in range(len(scores_list_away)):\n",
    "    quarters_away[i] = scores_list_away[i]\n",
    "\n",
    "scores_list_home = scores[2].text.split()[1:-1]\n",
    "for i in range(len(scores_list_home)):\n",
    "    quarters_home[i] = scores_list_home[i]\n",
    "    \n",
    "    \n",
    "q1_pts_away, q2_pts_away, q3_pts_away, q4_pts_away, ot1_pts_away, ot2_pts_away, ot3_pts_away, ot4_pts_away = tuple(quarters_away)\n",
    "q1_pts_home, q2_pts_home, q3_pts_home, q4_pts_home, ot1_pts_home, ot2_pts_home, ot3_pts_home, ot4_pts_home = tuple(quarters_home)"
   ]
  },
  {
   "cell_type": "code",
   "execution_count": 44,
   "metadata": {},
   "outputs": [
    {
     "name": "stdout",
     "output_type": "stream",
     "text": [
      "DET PHI 1007658 124 106 -12 210\n"
     ]
    }
   ],
   "source": [
    "# Extract spreads (for home team) and over/unders\n",
    "game_data = html_soup.find_all('div', class_ = 'cmg_game_data')\n",
    "first_bet = game_data[0]\n",
    "\n",
    "away_team_abbr = first_bet['data-away-team-shortname-search']\n",
    "home_team_abbr = first_bet['data-home-team-shortname-search']\n",
    "event_id = first_bet['data-event-id']\n",
    "home_score = first_bet['data-home-score']\n",
    "away_score = first_bet['data-away-score']\n",
    "spread = first_bet['data-game-odd']\n",
    "over_under = first_bet['data-game-total']\n",
    "\n",
    "print(away_team_abbr, home_team_abbr, event_id, home_score, away_score, spread, over_under)"
   ]
  },
  {
   "cell_type": "code",
   "execution_count": 45,
   "metadata": {},
   "outputs": [],
   "source": [
    "# intialize lists to store data\n",
    "\n",
    "home_team_abbr = []\n",
    "away_team_abbr = []\n",
    "gameID = []\n",
    "home_score = []\n",
    "away_score = []\n",
    "spread = []\n",
    "over_under = []\n",
    "q1_pts_away = [] \n",
    "q1_pts_home = []\n",
    "q2_pts_away = []\n",
    "q2_pts_home = []\n",
    "q3_pts_away = []\n",
    "q3_pts_home = []\n",
    "q4_pts_away = []\n",
    "q4_pts_home = []\n",
    "ot1_pts_away = []\n",
    "ot1_pts_home = []\n",
    "ot2_pts_away = []\n",
    "ot2_pts_home = []\n",
    "ot3_pts_away = []\n",
    "ot3_pts_home = []\n",
    "ot4_pts_away = []\n",
    "ot4_pts_home = []\n",
    "date = []"
   ]
  },
  {
   "cell_type": "code",
   "execution_count": 46,
   "metadata": {},
   "outputs": [
    {
     "data": {
      "text/plain": [
       "bs4.element.Tag"
      ]
     },
     "execution_count": 46,
     "metadata": {},
     "output_type": "execute_result"
    }
   ],
   "source": [
    "type(game_containers[3].find('td', class_='cmg_matchup_line_score_total'))"
   ]
  },
  {
   "cell_type": "code",
   "execution_count": 47,
   "metadata": {},
   "outputs": [],
   "source": [
    "for game in game_containers:\n",
    "    if game.find('td', class_ ='cmg_matchup_line_score_total') is not None:\n",
    "        quarter_scores = game.find('div', class_ = 'cmg_matchup_line_score')\n",
    "        quarter_scores = quarter_scores.find_all('tr')\n",
    "        \n",
    "        # initialize these variables to 0 so that I can store them as a list (there is probably a better way to do this)\n",
    "        q1_pts_a = 0 \n",
    "        q1_pts_h = 0\n",
    "        q2_pts_a = 0\n",
    "        q2_pts_h = 0\n",
    "        q3_pts_a = 0\n",
    "        q3_pts_h = 0\n",
    "        q4_pts_a = 0\n",
    "        q4_pts_h = 0\n",
    "        ot1_pts_a = 0\n",
    "        ot1_pts_h = 0\n",
    "        ot2_pts_a = 0\n",
    "        ot2_pts_h = 0\n",
    "        ot3_pts_a = 0\n",
    "        ot3_pts_h = 0\n",
    "        ot4_pts_a = 0\n",
    "        ot4_pts_h = 0\n",
    "\n",
    "        quarters_away = [q1_pts_a, q2_pts_a, q3_pts_a, q4_pts_a, ot1_pts_a, ot2_pts_a, ot3_pts_a, ot4_pts_a]\n",
    "        quarters_home = [q1_pts_h, q2_pts_h, q3_pts_h, q4_pts_h, ot1_pts_h, ot2_pts_h, ot3_pts_h, ot4_pts_h]\n",
    "\n",
    "        scores_list_away = quarter_scores[1].text.split()[1:-1]     # this removes the team_name and the final score, since I already have those and just leaves the quarter scores\n",
    "        \n",
    "        for i in range(len(scores_list_away)):\n",
    "            quarters_away[i] = scores_list_away[i]\n",
    "\n",
    "        scores_list_home = quarter_scores[2].text.split()[1:-1]\n",
    "        for i in range(len(scores_list_home)):\n",
    "            quarters_home[i] = scores_list_home[i]\n",
    "\n",
    "        # store them into these variables\n",
    "        q1_pts_a, q2_pts_a, q3_pts_a, q4_pts_a, ot1_pts_a, ot2_pts_a, ot3_pts_a, ot4_pts_a = tuple(quarters_away)\n",
    "        q1_pts_h, q2_pts_h, q3_pts_h, q4_pts_h, ot1_pts_h, ot2_pts_h, ot3_pts_h, ot4_pts_h = tuple(quarters_home)\n",
    "        \n",
    "        q1_pts_away.append(q1_pts_a)\n",
    "        q2_pts_away.append(q2_pts_a)\n",
    "        q3_pts_away.append(q3_pts_a)\n",
    "        q4_pts_away.append(q4_pts_a)\n",
    "        ot1_pts_away.append(ot1_pts_a)\n",
    "        ot2_pts_away.append(ot2_pts_a)\n",
    "        ot3_pts_away.append(ot3_pts_a)\n",
    "        ot4_pts_away.append(ot4_pts_a)\n",
    "        \n",
    "        q1_pts_home.append(q1_pts_h)\n",
    "        q2_pts_home.append(q2_pts_h)\n",
    "        q3_pts_home.append(q3_pts_h)\n",
    "        q4_pts_home.append(q4_pts_h)\n",
    "        ot1_pts_home.append(ot1_pts_h)\n",
    "        ot2_pts_home.append(ot2_pts_h)\n",
    "        ot3_pts_home.append(ot3_pts_h)\n",
    "        ot4_pts_home.append(ot4_pts_h)\n",
    "  \n",
    "        away_team_abbr.append(game['data-away-team-shortname-search'])\n",
    "        home_team_abbr.append(game['data-home-team-shortname-search'])\n",
    "        gameID.append(game['data-event-id'])\n",
    "        home_score.append(game['data-home-score'])\n",
    "        away_score.append(game['data-away-score'])\n",
    "        spread.append(game['data-game-odd'])\n",
    "        over_under.append(game['data-game-total'])\n",
    "        date.append(game['data-game-date'])\n",
    "        "
   ]
  },
  {
   "cell_type": "code",
   "execution_count": 48,
   "metadata": {},
   "outputs": [],
   "source": [
    "betting_data = pd.DataFrame({'event_id':event_id, \n",
    "                             'date':date,\n",
    "                             'home_team_abbr':home_team_abbr,\n",
    "                             'away_team_abbr':away_team_abbr, \n",
    "                             'home_score' : home_score,\n",
    "                             'away_score' : away_score,\n",
    "                             'q1_pts_home': q1_pts_home,\n",
    "                             'q2_pts_home': q2_pts_home,\n",
    "                             'q3_pts_home': q3_pts_home,\n",
    "                             'q4_pts_home': q4_pts_home,\n",
    "                             'ot1_pts_home': ot1_pts_home,\n",
    "                             'ot2_pts_home': ot2_pts_home,\n",
    "                             'ot3_pts_home': ot3_pts_home,\n",
    "                             'ot4_pts_home': ot4_pts_home,\n",
    "                             'q1_pts_away': q1_pts_home,\n",
    "                             'q2_pts_away': q2_pts_home,\n",
    "                             'q3_pts_away': q3_pts_home,\n",
    "                             'q4_pts_away': q4_pts_home,\n",
    "                             'ot1_pts_away': ot1_pts_home,\n",
    "                             'ot2_pts_away': ot2_pts_home,\n",
    "                             'ot3_pts_away': ot3_pts_home,\n",
    "                             'ot4_pts_away': ot4_pts_home,\n",
    "                             'spread' : spread,\n",
    "                             'total' : over_under\n",
    "                            })"
   ]
  },
  {
   "cell_type": "code",
   "execution_count": 49,
   "metadata": {},
   "outputs": [
    {
     "data": {
      "text/html": [
       "<div>\n",
       "<style scoped>\n",
       "    .dataframe tbody tr th:only-of-type {\n",
       "        vertical-align: middle;\n",
       "    }\n",
       "\n",
       "    .dataframe tbody tr th {\n",
       "        vertical-align: top;\n",
       "    }\n",
       "\n",
       "    .dataframe thead th {\n",
       "        text-align: right;\n",
       "    }\n",
       "</style>\n",
       "<table border=\"1\" class=\"dataframe\">\n",
       "  <thead>\n",
       "    <tr style=\"text-align: right;\">\n",
       "      <th></th>\n",
       "      <th>event_id</th>\n",
       "      <th>date</th>\n",
       "      <th>home_team_abbr</th>\n",
       "      <th>away_team_abbr</th>\n",
       "      <th>home_score</th>\n",
       "      <th>away_score</th>\n",
       "      <th>q1_pts_home</th>\n",
       "      <th>q2_pts_home</th>\n",
       "      <th>q3_pts_home</th>\n",
       "      <th>q4_pts_home</th>\n",
       "      <th>...</th>\n",
       "      <th>q1_pts_away</th>\n",
       "      <th>q2_pts_away</th>\n",
       "      <th>q3_pts_away</th>\n",
       "      <th>q4_pts_away</th>\n",
       "      <th>ot1_pts_away</th>\n",
       "      <th>ot2_pts_away</th>\n",
       "      <th>ot3_pts_away</th>\n",
       "      <th>ot4_pts_away</th>\n",
       "      <th>spread</th>\n",
       "      <th>total</th>\n",
       "    </tr>\n",
       "  </thead>\n",
       "  <tbody>\n",
       "    <tr>\n",
       "      <th>0</th>\n",
       "      <td>1007658</td>\n",
       "      <td>2020-03-11 19:00:00</td>\n",
       "      <td>PHI</td>\n",
       "      <td>DET</td>\n",
       "      <td>124</td>\n",
       "      <td>106</td>\n",
       "      <td>34</td>\n",
       "      <td>36</td>\n",
       "      <td>29</td>\n",
       "      <td>25</td>\n",
       "      <td>...</td>\n",
       "      <td>34</td>\n",
       "      <td>36</td>\n",
       "      <td>29</td>\n",
       "      <td>25</td>\n",
       "      <td>124</td>\n",
       "      <td>0</td>\n",
       "      <td>0</td>\n",
       "      <td>0</td>\n",
       "      <td>-12</td>\n",
       "      <td>210</td>\n",
       "    </tr>\n",
       "    <tr>\n",
       "      <th>1</th>\n",
       "      <td>1007658</td>\n",
       "      <td>2020-03-11 19:30:00</td>\n",
       "      <td>ATL</td>\n",
       "      <td>NY</td>\n",
       "      <td>131</td>\n",
       "      <td>136</td>\n",
       "      <td>24</td>\n",
       "      <td>26</td>\n",
       "      <td>28</td>\n",
       "      <td>40</td>\n",
       "      <td>...</td>\n",
       "      <td>24</td>\n",
       "      <td>26</td>\n",
       "      <td>28</td>\n",
       "      <td>40</td>\n",
       "      <td>13</td>\n",
       "      <td>131</td>\n",
       "      <td>0</td>\n",
       "      <td>0</td>\n",
       "      <td>-4.5</td>\n",
       "      <td>232</td>\n",
       "    </tr>\n",
       "    <tr>\n",
       "      <th>2</th>\n",
       "      <td>1007658</td>\n",
       "      <td>2020-03-11 19:30:00</td>\n",
       "      <td>MIA</td>\n",
       "      <td>CHA</td>\n",
       "      <td>98</td>\n",
       "      <td>109</td>\n",
       "      <td>40</td>\n",
       "      <td>11</td>\n",
       "      <td>26</td>\n",
       "      <td>21</td>\n",
       "      <td>...</td>\n",
       "      <td>40</td>\n",
       "      <td>11</td>\n",
       "      <td>26</td>\n",
       "      <td>21</td>\n",
       "      <td>98</td>\n",
       "      <td>0</td>\n",
       "      <td>0</td>\n",
       "      <td>0</td>\n",
       "      <td>-11</td>\n",
       "      <td>206.5</td>\n",
       "    </tr>\n",
       "    <tr>\n",
       "      <th>3</th>\n",
       "      <td>1007658</td>\n",
       "      <td>2020-03-11 20:00:00</td>\n",
       "      <td>DAL</td>\n",
       "      <td>DEN</td>\n",
       "      <td>113</td>\n",
       "      <td>97</td>\n",
       "      <td>33</td>\n",
       "      <td>24</td>\n",
       "      <td>27</td>\n",
       "      <td>29</td>\n",
       "      <td>...</td>\n",
       "      <td>33</td>\n",
       "      <td>24</td>\n",
       "      <td>27</td>\n",
       "      <td>29</td>\n",
       "      <td>113</td>\n",
       "      <td>0</td>\n",
       "      <td>0</td>\n",
       "      <td>0</td>\n",
       "      <td>3</td>\n",
       "      <td>221</td>\n",
       "    </tr>\n",
       "  </tbody>\n",
       "</table>\n",
       "<p>4 rows × 24 columns</p>\n",
       "</div>"
      ],
      "text/plain": [
       "  event_id                 date home_team_abbr away_team_abbr home_score  \\\n",
       "0  1007658  2020-03-11 19:00:00            PHI            DET        124   \n",
       "1  1007658  2020-03-11 19:30:00            ATL             NY        131   \n",
       "2  1007658  2020-03-11 19:30:00            MIA            CHA         98   \n",
       "3  1007658  2020-03-11 20:00:00            DAL            DEN        113   \n",
       "\n",
       "  away_score q1_pts_home q2_pts_home q3_pts_home q4_pts_home  ... q1_pts_away  \\\n",
       "0        106          34          36          29          25  ...          34   \n",
       "1        136          24          26          28          40  ...          24   \n",
       "2        109          40          11          26          21  ...          40   \n",
       "3         97          33          24          27          29  ...          33   \n",
       "\n",
       "  q2_pts_away  q3_pts_away  q4_pts_away ot1_pts_away ot2_pts_away  \\\n",
       "0          36           29           25          124            0   \n",
       "1          26           28           40           13          131   \n",
       "2          11           26           21           98            0   \n",
       "3          24           27           29          113            0   \n",
       "\n",
       "  ot3_pts_away ot4_pts_away spread  total  \n",
       "0            0            0    -12    210  \n",
       "1            0            0   -4.5    232  \n",
       "2            0            0    -11  206.5  \n",
       "3            0            0      3    221  \n",
       "\n",
       "[4 rows x 24 columns]"
      ]
     },
     "execution_count": 49,
     "metadata": {},
     "output_type": "execute_result"
    }
   ],
   "source": [
    "betting_data"
   ]
  },
  {
   "cell_type": "markdown",
   "metadata": {},
   "source": [
    "SCRAPE WHOLE PAGE"
   ]
  },
  {
   "cell_type": "code",
   "execution_count": 53,
   "metadata": {},
   "outputs": [
    {
     "name": "stderr",
     "output_type": "stream",
     "text": [
      "/var/folders/9_/skd397mj5fzg2y5xx2wb5xfc0000gn/T/ipykernel_63006/1872411503.py:2: UserWarning: Warning Simulation\n",
      "  warn(\"Warning Simulation\")\n",
      "/var/folders/9_/skd397mj5fzg2y5xx2wb5xfc0000gn/T/ipykernel_63006/1872411503.py:3: DeprecationWarning: Importing clear_output from IPython.core.display is deprecated since IPython 7.14, please import from IPython display\n",
      "  from IPython.core.display import clear_output\n"
     ]
    }
   ],
   "source": [
    "from warnings import warn\n",
    "warn(\"Warning Simulation\")\n",
    "from IPython.core.display import clear_output\n",
    "from time import time\n",
    "start_time = time()\n",
    "\n",
    "requests = 0\n",
    "import numpy as np\n",
    "from nba_api.stats.endpoints import leaguegamelog\n",
    "from nba_api.stats.library.parameters import SeasonAll"
   ]
  },
  {
   "cell_type": "code",
   "execution_count": 59,
   "metadata": {},
   "outputs": [
    {
     "name": "stdout",
     "output_type": "stream",
     "text": [
      "2210\n",
      "2010-10-26 2024-04-14\n"
     ]
    }
   ],
   "source": [
    "seasons = ['20{}-{}'.format(x, x+1) for x in range(10, 24)]\n",
    "dates = np.array([])\n",
    "for season in seasons:\n",
    "    games = leaguegamelog.LeagueGameLog(season=season).get_data_frames()[0]\n",
    "    dates = np.append(dates, games['GAME_DATE'].unique())\n",
    "\n",
    "print(len(dates))\n",
    "print(dates[0], dates[-1])\n",
    "dates = dates.tolist()[:]"
   ]
  },
  {
   "cell_type": "code",
   "execution_count": 60,
   "metadata": {},
   "outputs": [
    {
     "name": "stdout",
     "output_type": "stream",
     "text": [
      "Request: 2210; Frequency: 0.2582322125111023\n"
     ]
    }
   ],
   "source": [
    "# intialize lists to store data\n",
    "\n",
    "home_team_abbr = []\n",
    "away_team_abbr = []\n",
    "event_id = []\n",
    "home_score = []\n",
    "away_score = []\n",
    "spread = []\n",
    "total = []\n",
    "q1_pts_away = [] \n",
    "q1_pts_home = []\n",
    "q2_pts_away = []\n",
    "q2_pts_home = []\n",
    "q3_pts_away = []\n",
    "q3_pts_home = []\n",
    "q4_pts_away = []\n",
    "q4_pts_home = []\n",
    "ot1_pts_away = []\n",
    "ot1_pts_home = []\n",
    "ot2_pts_away = []\n",
    "ot2_pts_home = []\n",
    "ot3_pts_away = []\n",
    "ot3_pts_home = []\n",
    "ot4_pts_away = []\n",
    "ot4_pts_home = []\n",
    "game_date = []\n",
    "\n",
    "# To help control loop rate\n",
    "start_time = time()\n",
    "requests = 0\n",
    "\n",
    "for date in dates:\n",
    "    url = 'https://www.covers.com/sports/NBA/matchups?selectedDate={}'.format(date)        #url for every day in the 2015-2020 season (there will be repeats on days that have no game. we can delete these after)\n",
    "    # Make a request\n",
    "    response = get(url)\n",
    "    \n",
    "    # Pause the Loop\n",
    "    sleep(randint(2, 4))\n",
    "    \n",
    "    #Monitor the requests\n",
    "    requests+=1\n",
    "    elapsed_time = time() - start_time\n",
    "    print('Request: {}; Frequency: {}'.format(requests, requests/elapsed_time))\n",
    "    clear_output(wait=True)\n",
    "    \n",
    "    # Warning for non-200 status codes\n",
    "    if response.status_code != 200:\n",
    "        warn('request: {}; Status code: {}'.format(requests, response.status_code))\n",
    "        \n",
    "    # Break loop if number of requests is greater than expetcted\n",
    "#     if requests > 300:\n",
    "#         warn('Number of requests was greater than expected')\n",
    "#         break\n",
    "    \n",
    "    html_soup = BeautifulSoup(response.text, 'html.parser')\n",
    "    \n",
    "    game_containers = html_soup.find_all('div', class_ = 'cmg_matchup_game_box cmg_game_data')\n",
    "\n",
    "    for game in game_containers:\n",
    "        if game.find('td', class_ ='cmg_matchup_line_score_total') is not None:\n",
    "            quarter_scores = game.find('div', class_ = 'cmg_matchup_line_score')\n",
    "            quarter_scores = quarter_scores.find_all('tr')\n",
    "\n",
    "            # initialize these variables to 0 so that I can store them as a list (there is probably a better way to do this)\n",
    "            q1_pts_a = 0 \n",
    "            q1_pts_h = 0\n",
    "            q2_pts_a = 0\n",
    "            q2_pts_h = 0\n",
    "            q3_pts_a = 0\n",
    "            q3_pts_h = 0\n",
    "            q4_pts_a = 0\n",
    "            q4_pts_h = 0\n",
    "            ot1_pts_a = 0\n",
    "            ot1_pts_h = 0\n",
    "            ot2_pts_a = 0\n",
    "            ot2_pts_h = 0\n",
    "            ot3_pts_a = 0\n",
    "            ot3_pts_h = 0\n",
    "            ot4_pts_a = 0\n",
    "            ot4_pts_h = 0\n",
    "\n",
    "            quarters_away = [q1_pts_a, q2_pts_a, q3_pts_a, q4_pts_a, ot1_pts_a, ot2_pts_a, ot3_pts_a, ot4_pts_a]\n",
    "            quarters_home = [q1_pts_h, q2_pts_h, q3_pts_h, q4_pts_h, ot1_pts_h, ot2_pts_h, ot3_pts_h, ot4_pts_h]\n",
    "            \n",
    "            # this removes the team_name and the final score, since I already have those and just leaves the quarter scores\n",
    "            scores_list_away = quarter_scores[1].text.split()[1:-1]     \n",
    "\n",
    "            for i in range(len(scores_list_away)):\n",
    "                quarters_away[i] = scores_list_away[i]\n",
    "\n",
    "            scores_list_home = quarter_scores[2].text.split()[1:-1]\n",
    "            for i in range(len(scores_list_home)):\n",
    "                quarters_home[i] = scores_list_home[i]\n",
    "\n",
    "            # store them into these variables\n",
    "            q1_pts_a, q2_pts_a, q3_pts_a, q4_pts_a, ot1_pts_a, ot2_pts_a, ot3_pts_a, ot4_pts_a = tuple(quarters_away)\n",
    "            q1_pts_h, q2_pts_h, q3_pts_h, q4_pts_h, ot1_pts_h, ot2_pts_h, ot3_pts_h, ot4_pts_h = tuple(quarters_home)\n",
    "\n",
    "            q1_pts_away.append(q1_pts_a)\n",
    "            q2_pts_away.append(q2_pts_a)\n",
    "            q3_pts_away.append(q3_pts_a)\n",
    "            q4_pts_away.append(q4_pts_a)\n",
    "            ot1_pts_away.append(ot1_pts_a)\n",
    "            ot2_pts_away.append(ot2_pts_a)\n",
    "            ot3_pts_away.append(ot3_pts_a)\n",
    "            ot4_pts_away.append(ot4_pts_a)\n",
    "\n",
    "            q1_pts_home.append(q1_pts_h)\n",
    "            q2_pts_home.append(q2_pts_h)\n",
    "            q3_pts_home.append(q3_pts_h)\n",
    "            q4_pts_home.append(q4_pts_h)\n",
    "            ot1_pts_home.append(ot1_pts_h)\n",
    "            ot2_pts_home.append(ot2_pts_h)\n",
    "            ot3_pts_home.append(ot3_pts_h)\n",
    "            ot4_pts_home.append(ot4_pts_h)\n",
    "\n",
    "            away_team_abbr.append(game['data-away-team-shortname-search'])\n",
    "            home_team_abbr.append(game['data-home-team-shortname-search'])\n",
    "            event_id.append(game['data-event-id'])\n",
    "            home_score.append(game['data-home-score'])\n",
    "            away_score.append(game['data-away-score'])\n",
    "            spread.append(game['data-game-odd'])\n",
    "            total.append(game['data-game-total'])\n",
    "            game_date.append(date)"
   ]
  },
  {
   "cell_type": "code",
   "execution_count": 61,
   "metadata": {},
   "outputs": [],
   "source": [
    "nba_betting_data = pd.DataFrame({'event_id':event_id, \n",
    "                             'date':game_date,\n",
    "                             'home_team_abbr':home_team_abbr,\n",
    "                             'away_team_abbr':away_team_abbr, \n",
    "                             'home_score' : home_score,\n",
    "                             'away_score' : away_score,\n",
    "                             'q1_pts_home': q1_pts_home,\n",
    "                             'q2_pts_home': q2_pts_home,\n",
    "                             'q3_pts_home': q3_pts_home,\n",
    "                             'q4_pts_home': q4_pts_home,\n",
    "                             'ot1_pts_home': ot1_pts_home,\n",
    "                             'ot2_pts_home': ot2_pts_home,\n",
    "                             'ot3_pts_home': ot3_pts_home,\n",
    "                             'ot4_pts_home': ot4_pts_home,\n",
    "                             'q1_pts_away': q1_pts_home,\n",
    "                             'q2_pts_away': q2_pts_home,\n",
    "                             'q3_pts_away': q3_pts_home,\n",
    "                             'q4_pts_away': q4_pts_home,\n",
    "                             'ot1_pts_away': ot1_pts_home,\n",
    "                             'ot2_pts_away': ot2_pts_home,\n",
    "                             'ot3_pts_away': ot3_pts_home,\n",
    "                             'ot4_pts_away': ot4_pts_home,\n",
    "                             'spread' : spread,\n",
    "                             'total' : total\n",
    "                            })"
   ]
  },
  {
   "cell_type": "code",
   "execution_count": 65,
   "metadata": {},
   "outputs": [],
   "source": [
    "def generate_game_id(date_str, home_team_abbreviation):\n",
    "    # Convert date string to datetime object\n",
    "    date_obj = datetime.strptime(date_str, '%Y-%m-%d')\n",
    "    formatted_date = date_obj.strftime('%Y%m%d')\n",
    "    # Combine date and home team abbreviation\n",
    "    return f\"{formatted_date}0{home_team_abbreviation}\""
   ]
  },
  {
   "cell_type": "code",
   "execution_count": 63,
   "metadata": {},
   "outputs": [],
   "source": [
    "nba_betting_data.to_csv('data/nba_spreads.csv', index=False)"
   ]
  },
  {
   "cell_type": "code",
   "execution_count": 68,
   "metadata": {},
   "outputs": [
    {
     "ename": "NameError",
     "evalue": "name 'hi' is not defined",
     "output_type": "error",
     "traceback": [
      "\u001b[0;31m---------------------------------------------------------------------------\u001b[0m",
      "\u001b[0;31mNameError\u001b[0m                                 Traceback (most recent call last)",
      "Cell \u001b[0;32mIn[68], line 1\u001b[0m\n\u001b[0;32m----> 1\u001b[0m \u001b[43mhi\u001b[49m\n",
      "\u001b[0;31mNameError\u001b[0m: name 'hi' is not defined"
     ]
    }
   ],
   "source": [
    "hi"
   ]
  },
  {
   "cell_type": "code",
   "execution_count": 70,
   "metadata": {},
   "outputs": [],
   "source": [
    "nba_betting_data['gameID'] = nba_betting_data.apply(lambda row: generate_game_id(row['date'], row['home_team_abbr']), axis=1)"
   ]
  },
  {
   "cell_type": "code",
   "execution_count": 78,
   "metadata": {},
   "outputs": [],
   "source": [
    "selected_columns = nba_betting_data[['gameID', 'spread', 'total']]"
   ]
  },
  {
   "cell_type": "code",
   "execution_count": 75,
   "metadata": {},
   "outputs": [],
   "source": [
    "selected_columns.to_csv('data/nba_spreads_totals.csv', index=False)"
   ]
  },
  {
   "cell_type": "code",
   "execution_count": 79,
   "metadata": {},
   "outputs": [
    {
     "name": "stderr",
     "output_type": "stream",
     "text": [
      "/var/folders/9_/skd397mj5fzg2y5xx2wb5xfc0000gn/T/ipykernel_63006/301183879.py:42: SettingWithCopyWarning: \n",
      "A value is trying to be set on a copy of a slice from a DataFrame.\n",
      "Try using .loc[row_indexer,col_indexer] = value instead\n",
      "\n",
      "See the caveats in the documentation: https://pandas.pydata.org/pandas-docs/stable/user_guide/indexing.html#returning-a-view-versus-a-copy\n",
      "  selected_columns['gameID'] = selected_columns['gameID'].apply(update_gameid_with_abbreviation)\n"
     ]
    }
   ],
   "source": [
    "team_abbreviation_mapping = {\n",
    "    'NY': 'NYK',\n",
    "    'BK': 'BRK',\n",
    "    'MIA': 'MIA',\n",
    "    'HOU': 'HOU',\n",
    "    'PHI': 'PHI',\n",
    "    'NYK': 'NYK',\n",
    "    'IND': 'IND',\n",
    "    'POR': 'POR',\n",
    "    'ORL': 'ORL',\n",
    "    'MEM': 'MEM',\n",
    "    'NO': 'NOP',\n",
    "    'OKC': 'OKC',\n",
    "    'SAC': 'SAC',\n",
    "    'DEN': 'DEN',\n",
    "    'DAL': 'DAL',\n",
    "    'BOS': 'BOS',\n",
    "    'SA': 'SAS',\n",
    "    'PHO': 'PHX',\n",
    "    'ATL': 'ATL',\n",
    "    'GS': 'GSW',\n",
    "    'LAL': 'LAL',\n",
    "    'TOR': 'TOR',\n",
    "    'CHA': 'CHA',\n",
    "    'DET': 'DET',\n",
    "    'UTA': 'UTA',\n",
    "    'WAS': 'WAS',\n",
    "    'MIL': 'MIL',\n",
    "    'CHI': 'CHI',\n",
    "    'CLE': 'CLE',\n",
    "    'MIN': 'MIN'\n",
    "}\n",
    "\n",
    "# Function to replace the incorrect abbreviation in the gameID\n",
    "def update_gameid_with_abbreviation(gameID):\n",
    "    for incorrect_abbr, correct_abbr in team_abbreviation_mapping.items():\n",
    "        if incorrect_abbr in gameID:\n",
    "            return gameID.replace(incorrect_abbr, correct_abbr)\n",
    "    return gameID  # Return the original gameID if no replacement is made\n",
    "\n",
    "# Apply the function to the gameID column\n",
    "selected_columns['gameID'] = selected_columns['gameID'].apply(update_gameid_with_abbreviation)\n",
    "\n",
    "# Save the updated dataset to a new CSV file\n",
    "selected_columns.to_csv('data/nba_spreads_totals.csv', index=False)"
   ]
  },
  {
   "cell_type": "code",
   "execution_count": null,
   "metadata": {},
   "outputs": [],
   "source": []
  }
 ],
 "metadata": {
  "kernelspec": {
   "display_name": "venv",
   "language": "python",
   "name": "python3"
  },
  "language_info": {
   "codemirror_mode": {
    "name": "ipython",
    "version": 3
   },
   "file_extension": ".py",
   "mimetype": "text/x-python",
   "name": "python",
   "nbconvert_exporter": "python",
   "pygments_lexer": "ipython3",
   "version": "3.12.1"
  }
 },
 "nbformat": 4,
 "nbformat_minor": 2
}
